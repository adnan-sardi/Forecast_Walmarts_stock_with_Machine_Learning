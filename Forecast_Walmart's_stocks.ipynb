{
  "nbformat": 4,
  "nbformat_minor": 0,
  "metadata": {
    "colab": {
      "provenance": [],
      "collapsed_sections": [
        "Hti8FmZaiqI3",
        "Tjl5gdoZSgrE",
        "SZtb2u3Eandu",
        "kYDS347vt8y6",
        "iKhd8dBLuXDX",
        "QTE1lvixupR8",
        "BldG_WqywRH9",
        "tldYcXWywayF",
        "AjD8OTXbw9ca"
      ]
    },
    "kernelspec": {
      "name": "python3",
      "display_name": "Python 3"
    },
    "language_info": {
      "name": "python"
    }
  },
  "cells": [
    {
      "cell_type": "markdown",
      "source": [
        "# Importing needed libreries"
      ],
      "metadata": {
        "id": "Hti8FmZaiqI3"
      }
    },
    {
      "cell_type": "code",
      "source": [
        "#pip install yfinance "
      ],
      "metadata": {
        "id": "7COnaAQzT6uQ",
        "colab": {
          "base_uri": "https://localhost:8080/"
        },
        "outputId": "4fa2b0da-a74f-49d1-eee6-1ed59f2ed86e"
      },
      "execution_count": 1,
      "outputs": [
        {
          "output_type": "stream",
          "name": "stdout",
          "text": [
            "Looking in indexes: https://pypi.org/simple, https://us-python.pkg.dev/colab-wheels/public/simple/\n",
            "Requirement already satisfied: yfinance in /usr/local/lib/python3.9/dist-packages (0.2.14)\n",
            "Requirement already satisfied: cryptography>=3.3.2 in /usr/local/lib/python3.9/dist-packages (from yfinance) (40.0.1)\n",
            "Requirement already satisfied: requests>=2.26 in /usr/local/lib/python3.9/dist-packages (from yfinance) (2.27.1)\n",
            "Requirement already satisfied: lxml>=4.9.1 in /usr/local/lib/python3.9/dist-packages (from yfinance) (4.9.2)\n",
            "Requirement already satisfied: frozendict>=2.3.4 in /usr/local/lib/python3.9/dist-packages (from yfinance) (2.3.6)\n",
            "Requirement already satisfied: html5lib>=1.1 in /usr/local/lib/python3.9/dist-packages (from yfinance) (1.1)\n",
            "Requirement already satisfied: pytz>=2022.5 in /usr/local/lib/python3.9/dist-packages (from yfinance) (2022.7.1)\n",
            "Requirement already satisfied: pandas>=1.3.0 in /usr/local/lib/python3.9/dist-packages (from yfinance) (1.4.4)\n",
            "Requirement already satisfied: appdirs>=1.4.4 in /usr/local/lib/python3.9/dist-packages (from yfinance) (1.4.4)\n",
            "Requirement already satisfied: numpy>=1.16.5 in /usr/local/lib/python3.9/dist-packages (from yfinance) (1.22.4)\n",
            "Requirement already satisfied: multitasking>=0.0.7 in /usr/local/lib/python3.9/dist-packages (from yfinance) (0.0.11)\n",
            "Requirement already satisfied: beautifulsoup4>=4.11.1 in /usr/local/lib/python3.9/dist-packages (from yfinance) (4.11.2)\n",
            "Requirement already satisfied: soupsieve>1.2 in /usr/local/lib/python3.9/dist-packages (from beautifulsoup4>=4.11.1->yfinance) (2.4)\n",
            "Requirement already satisfied: cffi>=1.12 in /usr/local/lib/python3.9/dist-packages (from cryptography>=3.3.2->yfinance) (1.15.1)\n",
            "Requirement already satisfied: six>=1.9 in /usr/local/lib/python3.9/dist-packages (from html5lib>=1.1->yfinance) (1.16.0)\n",
            "Requirement already satisfied: webencodings in /usr/local/lib/python3.9/dist-packages (from html5lib>=1.1->yfinance) (0.5.1)\n",
            "Requirement already satisfied: python-dateutil>=2.8.1 in /usr/local/lib/python3.9/dist-packages (from pandas>=1.3.0->yfinance) (2.8.2)\n",
            "Requirement already satisfied: idna<4,>=2.5 in /usr/local/lib/python3.9/dist-packages (from requests>=2.26->yfinance) (3.4)\n",
            "Requirement already satisfied: certifi>=2017.4.17 in /usr/local/lib/python3.9/dist-packages (from requests>=2.26->yfinance) (2022.12.7)\n",
            "Requirement already satisfied: urllib3<1.27,>=1.21.1 in /usr/local/lib/python3.9/dist-packages (from requests>=2.26->yfinance) (1.26.15)\n",
            "Requirement already satisfied: charset-normalizer~=2.0.0 in /usr/local/lib/python3.9/dist-packages (from requests>=2.26->yfinance) (2.0.12)\n",
            "Requirement already satisfied: pycparser in /usr/local/lib/python3.9/dist-packages (from cffi>=1.12->cryptography>=3.3.2->yfinance) (2.21)\n"
          ]
        }
      ]
    },
    {
      "cell_type": "code",
      "execution_count": 2,
      "metadata": {
        "id": "QOHc63pOh1p_"
      },
      "outputs": [],
      "source": [
        "import math\n",
        "import pandas_datareader as web\n",
        "import numpy as np\n",
        "import pandas as pd\n",
        "from pathlib import Path\n",
        "from sklearn.preprocessing import MinMaxScaler\n",
        "from keras.models import Sequential\n",
        "from keras.layers import Dense, LSTM\n",
        "import matplotlib.pyplot as plt\n",
        "plt.style.use('fivethirtyeight')\n",
        "import yfinance as yf"
      ]
    },
    {
      "cell_type": "markdown",
      "source": [
        "#Start\n"
      ],
      "metadata": {
        "id": "Tjl5gdoZSgrE"
      }
    },
    {
      "cell_type": "markdown",
      "source": [
        "**Get the stocks quote.**"
      ],
      "metadata": {
        "id": "8jAg8GxzkV6m"
      }
    },
    {
      "cell_type": "code",
      "source": [
        "data = yf.download('WMT', start='2000-01-01', end='2019-12-17')"
      ],
      "metadata": {
        "colab": {
          "base_uri": "https://localhost:8080/"
        },
        "id": "hIsAj-RBkUV5",
        "outputId": "7b8ef422-387a-4cc9-fae4-f31881d4cd64"
      },
      "execution_count": 35,
      "outputs": [
        {
          "output_type": "stream",
          "name": "stdout",
          "text": [
            "\r[*********************100%***********************]  1 of 1 completed\n"
          ]
        }
      ]
    },
    {
      "cell_type": "markdown",
      "source": [
        "**Show the data that we have.**"
      ],
      "metadata": {
        "id": "wQcV-ZKxk2Vv"
      }
    },
    {
      "cell_type": "code",
      "source": [
        "data"
      ],
      "metadata": {
        "id": "2RtafSd6kUY5"
      },
      "execution_count": null,
      "outputs": []
    },
    {
      "cell_type": "markdown",
      "source": [
        "**Get the number of rows and columns in the data**"
      ],
      "metadata": {
        "id": "41M3xpMLUwrM"
      }
    },
    {
      "cell_type": "code",
      "source": [
        "data.shape"
      ],
      "metadata": {
        "id": "Mjq_NLg6kUcH",
        "colab": {
          "base_uri": "https://localhost:8080/"
        },
        "outputId": "030fa4fa-b2f4-4d5f-84d2-f68bdb789a93"
      },
      "execution_count": 37,
      "outputs": [
        {
          "output_type": "execute_result",
          "data": {
            "text/plain": [
              "(5021, 6)"
            ]
          },
          "metadata": {},
          "execution_count": 37
        }
      ]
    },
    {
      "cell_type": "code",
      "source": [
        "plt.figure(figsize=(16,8))\n",
        "plt.title('Close Price History')\n",
        "plt.plot(data['Close'])\n",
        "plt.xlabel('Date',fontsize=18)\n",
        "plt.ylabel('Close Price USD ($)', fontsize=18)\n",
        "plt.show()"
      ],
      "metadata": {
        "id": "ATCp7JqpUu5D"
      },
      "execution_count": null,
      "outputs": []
    },
    {
      "cell_type": "markdown",
      "source": [
        "**Create a new dataframe with only the 'Close' column.**"
      ],
      "metadata": {
        "id": "Y2kUzklfU5Ni"
      }
    },
    {
      "cell_type": "code",
      "source": [
        "data_close = data.filter(['Close'])"
      ],
      "metadata": {
        "id": "oQWd0LvBUvA-"
      },
      "execution_count": 39,
      "outputs": []
    },
    {
      "cell_type": "markdown",
      "source": [
        "**Convert the dataframe to a numpy array and then get the number of rows to train the model on.**"
      ],
      "metadata": {
        "id": "CSTodZUQZ0Y7"
      }
    },
    {
      "cell_type": "code",
      "source": [
        "dataset = data_close\n",
        "\n",
        "training_data_len = math.ceil(len(dataset)* .8)\n",
        "training_data_len"
      ],
      "metadata": {
        "colab": {
          "base_uri": "https://localhost:8080/"
        },
        "id": "JOWTgfFDUvFV",
        "outputId": "e6998dd1-8193-4945-e32e-3bfc7cbab5ec"
      },
      "execution_count": 40,
      "outputs": [
        {
          "output_type": "execute_result",
          "data": {
            "text/plain": [
              "4017"
            ]
          },
          "metadata": {},
          "execution_count": 40
        }
      ]
    },
    {
      "cell_type": "markdown",
      "source": [
        "#Scaling data"
      ],
      "metadata": {
        "id": "SZtb2u3Eandu"
      }
    },
    {
      "cell_type": "code",
      "source": [
        "scaler = MinMaxScaler(feature_range=(0,1))\n",
        "scale_data = scaler.fit_transform(dataset)\n",
        "\n",
        "scale_data"
      ],
      "metadata": {
        "id": "NxYX41U-aguy"
      },
      "execution_count": null,
      "outputs": []
    },
    {
      "cell_type": "markdown",
      "source": [
        "**Creating the training data set and the scaled training dataset.**"
      ],
      "metadata": {
        "id": "AVEo84w9b1CZ"
      }
    },
    {
      "cell_type": "code",
      "source": [
        "train_data = scale_data[0:training_data_len,:]"
      ],
      "metadata": {
        "id": "jVlURDVcb0bb"
      },
      "execution_count": 42,
      "outputs": []
    },
    {
      "cell_type": "markdown",
      "source": [
        "**Split the data into x_train and y_train dataset.**"
      ],
      "metadata": {
        "id": "bfX3o5pIcJE-"
      }
    },
    {
      "cell_type": "code",
      "source": [
        "x_train = []\n",
        "y_train = []"
      ],
      "metadata": {
        "id": "iNfOiUFQcJeh"
      },
      "execution_count": 43,
      "outputs": []
    },
    {
      "cell_type": "code",
      "source": [
        "for i in range(60, len(train_data)):\n",
        "  x_train.append(train_data[i-60:i,0])\n",
        "  y_train.append(train_data[i,0])\n",
        "  if i <= 60:\n",
        "    print(x_train)\n",
        "    print(y_train)\n",
        "    print()"
      ],
      "metadata": {
        "id": "Yxdhr1QMcmO1"
      },
      "execution_count": null,
      "outputs": []
    },
    {
      "cell_type": "markdown",
      "source": [
        "#Reshaping the data"
      ],
      "metadata": {
        "id": "kYDS347vt8y6"
      }
    },
    {
      "cell_type": "markdown",
      "source": [
        "**Convert the x_train and y_train to numpy arrays.**"
      ],
      "metadata": {
        "id": "CfDz5vo5kR1n"
      }
    },
    {
      "cell_type": "code",
      "source": [
        "x_train, y_train = np.array(x_train), np.array(y_train)"
      ],
      "metadata": {
        "id": "iyX6hv-9kPIu"
      },
      "execution_count": 45,
      "outputs": []
    },
    {
      "cell_type": "markdown",
      "source": [
        "**Reshape the data.**"
      ],
      "metadata": {
        "id": "D4BnPm3_kwdQ"
      }
    },
    {
      "cell_type": "code",
      "source": [
        "x_train = np.reshape(x_train, (x_train.shape[0], x_train.shape[1], 1))\n",
        "x_train.shape"
      ],
      "metadata": {
        "id": "IGmc1aKskwJc",
        "colab": {
          "base_uri": "https://localhost:8080/"
        },
        "outputId": "f8e289b9-c41a-4694-a5d2-a68e73ed4799"
      },
      "execution_count": 46,
      "outputs": [
        {
          "output_type": "execute_result",
          "data": {
            "text/plain": [
              "(3957, 60, 1)"
            ]
          },
          "metadata": {},
          "execution_count": 46
        }
      ]
    },
    {
      "cell_type": "markdown",
      "source": [
        "#Building the model"
      ],
      "metadata": {
        "id": "iKhd8dBLuXDX"
      }
    },
    {
      "cell_type": "markdown",
      "source": [
        "**Build the LSTM model.**"
      ],
      "metadata": {
        "id": "pbY-CXQElXm4"
      }
    },
    {
      "cell_type": "code",
      "source": [
        "model = Sequential()\n",
        "model.add(LSTM(50, return_sequences=True, input_shape=(x_train.shape[1], 1)))\n",
        "model.add(LSTM(50, return_sequences=False))\n",
        "model.add(Dense(25))\n",
        "model.add(Dense(1))"
      ],
      "metadata": {
        "id": "MEL7uY8NlXTf"
      },
      "execution_count": 47,
      "outputs": []
    },
    {
      "cell_type": "markdown",
      "source": [
        "#Train the model"
      ],
      "metadata": {
        "id": "QTE1lvixupR8"
      }
    },
    {
      "cell_type": "markdown",
      "source": [
        "**Compile the model.**"
      ],
      "metadata": {
        "id": "g-h7Nb2ymgfr"
      }
    },
    {
      "cell_type": "code",
      "source": [
        "model.compile(optimizer='adam',loss='mean_squared_error')"
      ],
      "metadata": {
        "id": "nyTFp30JmgRY"
      },
      "execution_count": 48,
      "outputs": []
    },
    {
      "cell_type": "markdown",
      "source": [
        "**Train the model.**"
      ],
      "metadata": {
        "id": "oqj-hJ2QmwD2"
      }
    },
    {
      "cell_type": "code",
      "source": [
        "model.fit(x_train, y_train, batch_size=1, epochs=1)"
      ],
      "metadata": {
        "colab": {
          "base_uri": "https://localhost:8080/"
        },
        "id": "_CxFA8FDmzpU",
        "outputId": "9d0a72be-019d-4f6b-dc1e-71b80059e125"
      },
      "execution_count": 49,
      "outputs": [
        {
          "output_type": "stream",
          "name": "stdout",
          "text": [
            "3957/3957 [==============================] - 136s 33ms/step - loss: 5.7125e-04\n"
          ]
        },
        {
          "output_type": "execute_result",
          "data": {
            "text/plain": [
              "<keras.callbacks.History at 0x7fa3586f8190>"
            ]
          },
          "metadata": {},
          "execution_count": 49
        }
      ]
    },
    {
      "cell_type": "markdown",
      "source": [
        "**Create the testing data set.**\n",
        "**Now we create a new array containing scaled values from index 3957.**"
      ],
      "metadata": {
        "id": "aEGwToTyopME"
      }
    },
    {
      "cell_type": "code",
      "source": [
        "test_data = scale_data[training_data_len - 60: , :]"
      ],
      "metadata": {
        "id": "X-bJSPRzo_LU"
      },
      "execution_count": 50,
      "outputs": []
    },
    {
      "cell_type": "markdown",
      "source": [
        "**Create the data sets x_test and y_test.**"
      ],
      "metadata": {
        "id": "KBA4OYwjpIDR"
      }
    },
    {
      "cell_type": "code",
      "source": [
        "x_test = []\n",
        "y_test = dataset.iloc[training_data_len:,:]\n",
        "for i in range(60, len(test_data)):\n",
        "  x_test.append(test_data[i-60:i, 0])"
      ],
      "metadata": {
        "id": "pv0ADDnMo_S_"
      },
      "execution_count": 51,
      "outputs": []
    },
    {
      "cell_type": "markdown",
      "source": [
        "**Convert the data to a numpy array.**\n"
      ],
      "metadata": {
        "id": "me1nnTxrqAms"
      }
    },
    {
      "cell_type": "code",
      "source": [
        "x_test = np.array(x_test)"
      ],
      "metadata": {
        "id": "pD_sxrg9p_vc"
      },
      "execution_count": 52,
      "outputs": []
    },
    {
      "cell_type": "markdown",
      "source": [
        "#Reshape the data"
      ],
      "metadata": {
        "id": "BldG_WqywRH9"
      }
    },
    {
      "cell_type": "markdown",
      "source": [
        "**Reshape the data.**"
      ],
      "metadata": {
        "id": "wySQWq3fqMdL"
      }
    },
    {
      "cell_type": "code",
      "source": [
        "x_test = np.reshape(x_test, (x_test.shape[0], x_test.shape[1], 1))"
      ],
      "metadata": {
        "id": "c8Gs1DVFqMUq"
      },
      "execution_count": 53,
      "outputs": []
    },
    {
      "cell_type": "markdown",
      "source": [
        "**Get the models predicted price values.**"
      ],
      "metadata": {
        "id": "RMCvMtfFqtkC"
      }
    },
    {
      "cell_type": "code",
      "source": [
        "predictions = model.predict(x_test)\n",
        "predictions = scaler.inverse_transform(predictions)"
      ],
      "metadata": {
        "id": "Uh4twHlPqtsd",
        "colab": {
          "base_uri": "https://localhost:8080/"
        },
        "outputId": "e5691f61-9d4f-4d41-b934-6b45835f25f2"
      },
      "execution_count": 54,
      "outputs": [
        {
          "output_type": "stream",
          "name": "stdout",
          "text": [
            "32/32 [==============================] - 2s 25ms/step\n"
          ]
        }
      ]
    },
    {
      "cell_type": "markdown",
      "source": [
        "#Evaluate the model"
      ],
      "metadata": {
        "id": "tldYcXWywayF"
      }
    },
    {
      "cell_type": "markdown",
      "source": [
        "**Get the root mean squared error (RMSE).**"
      ],
      "metadata": {
        "id": "4IZrzYQ3sAYb"
      }
    },
    {
      "cell_type": "code",
      "source": [
        "rmse = np.sqrt(((predictions - y_test) ** 2).mean())\n",
        "print(rmse)"
      ],
      "metadata": {
        "colab": {
          "base_uri": "https://localhost:8080/"
        },
        "id": "IkOZ9uqusKYX",
        "outputId": "4ee931e8-c565-477d-b9ae-d338426b9f66"
      },
      "execution_count": 55,
      "outputs": [
        {
          "output_type": "stream",
          "name": "stdout",
          "text": [
            "Close    2.181569\n",
            "dtype: float64\n"
          ]
        }
      ]
    },
    {
      "cell_type": "markdown",
      "source": [
        "#Plot the data"
      ],
      "metadata": {
        "id": "AjD8OTXbw9ca"
      }
    },
    {
      "cell_type": "markdown",
      "source": [
        "**Plot the data.**"
      ],
      "metadata": {
        "id": "sapcgjnkxBrG"
      }
    },
    {
      "cell_type": "code",
      "source": [
        "train = data[:training_data_len]\n",
        "valid = data[training_data_len:]\n",
        "valid['Predictions'] = predictions"
      ],
      "metadata": {
        "id": "dpnHjHX_xBcT"
      },
      "execution_count": null,
      "outputs": []
    },
    {
      "cell_type": "markdown",
      "source": [
        "**Visualize the data.**\n",
        "\n"
      ],
      "metadata": {
        "id": "qAYVO9hcxZ_6"
      }
    },
    {
      "cell_type": "code",
      "source": [
        "plt.figure(figsize=(16,8))\n",
        "plt.title('Model')\n",
        "plt.xlabel('Date', fontsize=18)\n",
        "plt.ylabel('Close Price USD ($)', fontsize=18)\n",
        "plt.plot(train['Close'])\n",
        "plt.plot(valid[['Close', 'Predictions']])\n",
        "plt.legend(['Train', 'Val', 'Predictions'], loc='lower right')\n",
        "plt.show()"
      ],
      "metadata": {
        "colab": {
          "base_uri": "https://localhost:8080/",
          "height": 754
        },
        "id": "OSvaiTRaxm4Y",
        "outputId": "7214a597-3603-433f-9837-94f283be93b8"
      },
      "execution_count": 58,
      "outputs": [
        {
          "output_type": "display_data",
          "data": {
            "text/plain": [
              "<Figure size 1600x800 with 1 Axes>"
            ],
            "image/png": "[encoded data removed]"
          },
          "metadata": {}
        }
      ]
    },
    {
      "cell_type": "markdown",
      "source": [
        "#Showing results"
      ],
      "metadata": {
        "id": "8OVdm1Ks2Tkq"
      }
    },
    {
      "cell_type": "markdown",
      "source": [
        "**Show the valid and predicted prices.**"
      ],
      "metadata": {
        "id": "u06W3zWaxmoW"
      }
    },
    {
      "cell_type": "code",
      "source": [
        "valid"
      ],
      "metadata": {
        "id": "hngSZAFD2Ia-"
      },
      "execution_count": null,
      "outputs": []
    },
    {
      "cell_type": "markdown",
      "source": [
        "**Get the quote.**"
      ],
      "metadata": {
        "id": "05NaqJO42iXL"
      }
    },
    {
      "cell_type": "code",
      "source": [
        "walmart_quote = yf.download('WMT', start='2000-01-01', end='2019-12-17')"
      ],
      "metadata": {
        "colab": {
          "base_uri": "https://localhost:8080/"
        },
        "id": "BO7f3CgY2hXA",
        "outputId": "1b5866a0-05d9-47d7-9532-18054501f348"
      },
      "execution_count": 60,
      "outputs": [
        {
          "output_type": "stream",
          "name": "stdout",
          "text": [
            "\r[*********************100%***********************]  1 of 1 completed\n"
          ]
        }
      ]
    },
    {
      "cell_type": "markdown",
      "source": [
        "**Create a new dataframe.**"
      ],
      "metadata": {
        "id": "5GpFLj7J2_2g"
      }
    },
    {
      "cell_type": "code",
      "source": [
        "new_df = walmart_quote.filter(['Close'])"
      ],
      "metadata": {
        "id": "eN4T3s-x26mQ"
      },
      "execution_count": 61,
      "outputs": []
    },
    {
      "cell_type": "markdown",
      "source": [
        "**Get the last 60 day closing price values and convert the dataframe to an array.**"
      ],
      "metadata": {
        "id": "wkAl7WwS3KaH"
      }
    },
    {
      "cell_type": "code",
      "source": [
        "last_60_days = new_df[-60:].values"
      ],
      "metadata": {
        "id": "pLdtSNtT3UC1"
      },
      "execution_count": 62,
      "outputs": []
    },
    {
      "cell_type": "markdown",
      "source": [
        "**Scale the data to be values between 0.**"
      ],
      "metadata": {
        "id": "C_0RMVWs3dxs"
      }
    },
    {
      "cell_type": "code",
      "source": [
        "last_60_days_scaled = scaler.transform(last_60_days)"
      ],
      "metadata": {
        "colab": {
          "base_uri": "https://localhost:8080/"
        },
        "id": "MoABmm6t3kWW",
        "outputId": "486374f4-1f5a-42c3-817f-7a05b0bf368d"
      },
      "execution_count": 63,
      "outputs": [
        {
          "output_type": "stream",
          "name": "stderr",
          "text": [
            "/usr/local/lib/python3.9/dist-packages/sklearn/base.py:439: UserWarning: X does not have valid feature names, but MinMaxScaler was fitted with feature names\n",
            "  warnings.warn(\n"
          ]
        }
      ]
    },
    {
      "cell_type": "markdown",
      "source": [
        "**Create an empty list.**"
      ],
      "metadata": {
        "id": "AYu3JspJ3t5M"
      }
    },
    {
      "cell_type": "code",
      "source": [
        "X_test = []"
      ],
      "metadata": {
        "id": "89Ae7vw03woy"
      },
      "execution_count": 64,
      "outputs": []
    },
    {
      "cell_type": "markdown",
      "source": [
        "**Append the past 60 days.**\n"
      ],
      "metadata": {
        "id": "W0j2SFCL3zQw"
      }
    },
    {
      "cell_type": "code",
      "source": [
        "X_test.append(last_60_days_scaled)"
      ],
      "metadata": {
        "id": "UPXM4cjQ33fM"
      },
      "execution_count": 65,
      "outputs": []
    },
    {
      "cell_type": "markdown",
      "source": [
        "**Convert the X_test data set to a numpy array.**"
      ],
      "metadata": {
        "id": "QAgleRRd3_82"
      }
    },
    {
      "cell_type": "code",
      "source": [
        "X_test = np.array(X_test)"
      ],
      "metadata": {
        "id": "193OzQ2a4HMH"
      },
      "execution_count": 66,
      "outputs": []
    },
    {
      "cell_type": "markdown",
      "source": [
        "**Reshape the data.**"
      ],
      "metadata": {
        "id": "mNabfOHJ4L-z"
      }
    },
    {
      "cell_type": "code",
      "source": [
        "X_test = np.reshape(X_test, (X_test.shape[0], X_test.shape[1],1))"
      ],
      "metadata": {
        "id": "YV6Krv5n4On_"
      },
      "execution_count": 67,
      "outputs": []
    },
    {
      "cell_type": "markdown",
      "source": [
        "**Get the predicted scaled price.**"
      ],
      "metadata": {
        "id": "Er-TTlMM4YaV"
      }
    },
    {
      "cell_type": "code",
      "source": [
        "pred_price = model.predict(X_test)"
      ],
      "metadata": {
        "colab": {
          "base_uri": "https://localhost:8080/"
        },
        "id": "zbUJCO8X4Yic",
        "outputId": "08887f90-8d6c-4bf3-ce5f-901bc8282b16"
      },
      "execution_count": 68,
      "outputs": [
        {
          "output_type": "stream",
          "name": "stdout",
          "text": [
            "1/1 [==============================] - 0s 35ms/step\n"
          ]
        }
      ]
    },
    {
      "cell_type": "markdown",
      "source": [
        "**Undo the scaling.**"
      ],
      "metadata": {
        "id": "Y2f5fNtc4ia0"
      }
    },
    {
      "cell_type": "code",
      "source": [
        "pred_price = scaler.inverse_transform(pred_price)\n",
        "print(pred_price)"
      ],
      "metadata": {
        "colab": {
          "base_uri": "https://localhost:8080/"
        },
        "id": "-TEZ5RJT4ilN",
        "outputId": "5d27778b-d9f8-45ad-dbd5-c1ef2c145f0d"
      },
      "execution_count": 69,
      "outputs": [
        {
          "output_type": "stream",
          "name": "stdout",
          "text": [
            "[[116.34723]]\n"
          ]
        }
      ]
    },
    {
      "cell_type": "markdown",
      "source": [
        "**Get the quote.**"
      ],
      "metadata": {
        "id": "2KW4uT4g5CSR"
      }
    },
    {
      "cell_type": "code",
      "source": [
        "walmart_quote2 = yf.download('WMT', start='2019-12-18', end='2019-12-19')\n",
        "print(walmart_quote2['Close'])"
      ],
      "metadata": {
        "colab": {
          "base_uri": "https://localhost:8080/"
        },
        "id": "hunJbDSY4-TL",
        "outputId": "3f3cc984-8cef-4751-b798-e2eff1d12508"
      },
      "execution_count": 72,
      "outputs": [
        {
          "output_type": "stream",
          "name": "stdout",
          "text": [
            "\r[*********************100%***********************]  1 of 1 completed\n",
            "Date\n",
            "2019-12-18    119.860001\n",
            "Name: Close, dtype: float64\n"
          ]
        }
      ]
    },
    {
      "cell_type": "markdown",
      "source": [
        "#Conclusion"
      ],
      "metadata": {
        "id": "DonnNql27FNy"
      }
    },
    {
      "cell_type": "markdown",
      "source": [
        "In the **Start** phase:\n",
        "\n",
        "* Data collection: The code uses the yfinance library to download historical data of Walmart stock prices. The choice of start and end dates suggests that the analysis will be based on data from the past 20 years.\n",
        "\n",
        "* Data visualization: The code uses the matplotlib library to plot the historical closing prices of Walmart. This visualization helps to identify trends, patterns, and anomalies in the data.\n",
        "\n",
        "* Data preprocessing: The code filters the historical data to only include the closing prices of Walmart. This is a common preprocessing step in time series analysis.\n",
        "\n",
        "* Data splitting: The code splits the dataset into training and testing data. The training data will be used to train the LSTM neural network, while the testing data will be used to evaluate the performance of the model.\n",
        "\n",
        "In the **Scaling data** phase:\n",
        "\n",
        "* Data scaling: The code uses the MinMaxScaler function from the scikit-learn library to scale the data between 0 and 1. This is a common preprocessing step in neural network models, as it helps to improve the performance and stability of the model.\n",
        "\n",
        "* Data splitting: The code splits the scaled data into training and testing data. The training data is further split into sequences of 60 time steps, where each sequence is used to predict the next time step.\n",
        "\n",
        "* Feature and target data creation: The code creates feature data (x_train) and target data (y_train) based on the sequence length of 60. Each feature sequence consists of the previous 60 time steps, and the target data consists of the next time step.\n",
        "\n",
        "In the **Reshaping the data** phase:\n",
        "\n",
        "* Data conversion: The code converts the feature and target data from Python lists to numpy arrays. This is a common step in neural network models, as numpy arrays are more efficient for numerical calculations.\n",
        "\n",
        "* Reshaping data: The code reshapes the feature data to have three dimensions: the number of samples, the number of time steps, and the number of features. In this case, there is only one feature (the closing price), so the number of features is 1.\n",
        "\n",
        "In the **Building the model** phase:\n",
        "\n",
        "* Neural network architecture: The code defines an LSTM neural network using the Keras Sequential API. The network consists of two LSTM layers, each with 50 memory units. The first LSTM layer has the return_sequences parameter set to True, indicating that it returns the full sequence of outputs, rather than just the last output. The second LSTM layer has the return_sequences parameter set to False, indicating that it only returns the last output.\n",
        "\n",
        "* Dense layers: The code adds two Dense layers to the neural network, each with 25 units. The final Dense layer has a single output unit, which is used to predict the next closing price.\n",
        "\n",
        "* Input shape: The input shape of the first LSTM layer is defined as (x_train.shape[1], 1), which corresponds to the number of time steps (60) and the number of features (1).\n",
        "\n",
        "In the **Train the model** phase:\n",
        "\n",
        "* Model compilation: The code compiles the LSTM neural network using the 'adam' optimizer and the mean squared error loss function. This is a common approach for regression problems, where the goal is to minimize the difference between the predicted and actual target values.\n",
        "\n",
        "* Model training: The code trains the LSTM neural network using the fit() function. The feature and target data are passed as arguments, along with a batch size of 1 and a single epoch. The batch size defines the number of samples used to update the model weights at each iteration, while the epoch defines the number of times the entire training dataset is passed through the model.\n",
        "\n",
        "* Test data preparation: The code prepares the test data by scaling it using the same MinMaxScaler object used for the training data. It then creates a sliding window of 60 time steps for the test data, using the last 60 time steps from the training data as a starting point.\n",
        "\n",
        "* Feature data conversion: The code converts the test feature data from a Python list to a numpy array.\n",
        "\n",
        "In the **Reshape the data** phase: \n",
        "\n",
        "* After preparing the test data, the code reshapes the feature data to match the input shape expected by the LSTM neural network. It then uses the predict() function to generate predictions for the target variable using the trained model and the test feature data. Since the predicted values are scaled between 0 and 1, the code uses the inverse_transform() function to rescale them to their original values.\n",
        "\n",
        "In the **Evaluate the model** phase:\n",
        "\n",
        "* After generating predictions for the test data, the code calculates the root mean squared error (RMSE) between the predicted and actual target values. RMSE is a commonly used metric for evaluating regression models, and it represents the square root of the average of the squared differences between predicted and actual values.\n",
        "\n",
        "* The code first calculates the element-wise difference between the predicted and actual target values, squares the result, takes the mean of the squared differences, and then calculates the square root of the mean. The resulting value is the RMSE, which represents the average error of the predictions in the same unit as the target variable.\n",
        "\n",
        "In the **Plot the data** phase:\n",
        "\n",
        "* After generating predictions for the test data and calculating the RMSE, the code plots the predicted values alongside the actual values on a line graph to visually compare the two. The graph also includes the training data, allowing the user to see how well the model fits the training data as well as the test data.\n",
        "\n",
        "* The code first splits the data into training and validation sets, with the validation set containing the test data that was not used in training the model. It then adds a new column to the validation set called \"Predictions\" which contains the predicted values generated by the model.\n",
        "\n",
        "* The code then creates a line graph using Matplotlib to visualize the actual and predicted values over time. The graph shows the actual values for the training and validation sets as well as the predicted values for the validation set. The legend helps the user to distinguish between the actual and predicted values.\n",
        "\n",
        "In the **Showing the results** phase: \n",
        "\n",
        "* The results show that the LSTM model was able to predict the closing price of Walmart's stock for the testing period with reasonable accuracy, as evidenced by the RMSE. The plot also shows that the predicted prices closely follow the actual prices, indicating that the model is a good fit for the data. However, it's worth noting that this is a relatively simple model, and more complex models or additional data sources could potentially improve its accuracy."
      ],
      "metadata": {
        "id": "CxQk3j5A7vj9"
      }
    }
  ]
}